{
 "metadata": {
  "language_info": {
   "codemirror_mode": {
    "name": "ipython",
    "version": 3
   },
   "file_extension": ".py",
   "mimetype": "text/x-python",
   "name": "python",
   "nbconvert_exporter": "python",
   "pygments_lexer": "ipython3",
   "version": "3.7.3-final"
  },
  "orig_nbformat": 2,
  "kernelspec": {
   "name": "python3",
   "display_name": "Python 3"
  }
 },
 "nbformat": 4,
 "nbformat_minor": 2,
 "cells": [
  {
   "source": [
    "# Capstone Project Week 3 - Final Project\n",
    "Explore, segment, and cluster the neighborhoods in the city of Toronto. \n",
    "\n",
    "For the Toronto neighborhood data, scrape the Wikipedia page, https://en.wikipedia.org/wiki/List_of_postal_codes_of_Canada:_M, and transform the data into a pandas dataframe\n",
    "\n",
    "## Part 1: Create DataFrame\n",
    "\n",
    "1. The dataframe will consist of three columns: PostalCode, Borough, and Neighborhood\n",
    "2. Only process the cells that have an assigned borough. Ignore cells with a borough that is Not assigned.\n",
    "3. More than one neighborhood can exist in one postal code area. These rows will be combined into one row with the neighborhoods separated with a comma\n",
    "4. If a cell has a borough but a Not assigned neighborhood, then the neighborhood will be the same as the borough.\n",
    "5. Clean your Notebook and add Markdown cells to explain your work and any assumptions you are making.\n",
    "6. In the last cell of your notebook, use the .shape method to print the number of rows of your dataframe.\n"
   ],
   "cell_type": "markdown",
   "metadata": {}
  },
  {
   "cell_type": "code",
   "execution_count": 43,
   "metadata": {},
   "outputs": [],
   "source": [
    "import pandas as pd\n",
    "import numpy as np"
   ]
  },
  {
   "cell_type": "code",
   "execution_count": 44,
   "metadata": {},
   "outputs": [
    {
     "output_type": "execute_result",
     "data": {
      "text/plain": [
       "  Postal Code           Borough              Neighbourhood\n",
       "0         M1A      Not assigned               Not assigned\n",
       "1         M2A      Not assigned               Not assigned\n",
       "2         M3A        North York                  Parkwoods\n",
       "3         M4A        North York           Victoria Village\n",
       "4         M5A  Downtown Toronto  Regent Park, Harbourfront"
      ],
      "text/html": "<div>\n<style scoped>\n    .dataframe tbody tr th:only-of-type {\n        vertical-align: middle;\n    }\n\n    .dataframe tbody tr th {\n        vertical-align: top;\n    }\n\n    .dataframe thead th {\n        text-align: right;\n    }\n</style>\n<table border=\"1\" class=\"dataframe\">\n  <thead>\n    <tr style=\"text-align: right;\">\n      <th></th>\n      <th>Postal Code</th>\n      <th>Borough</th>\n      <th>Neighbourhood</th>\n    </tr>\n  </thead>\n  <tbody>\n    <tr>\n      <th>0</th>\n      <td>M1A</td>\n      <td>Not assigned</td>\n      <td>Not assigned</td>\n    </tr>\n    <tr>\n      <th>1</th>\n      <td>M2A</td>\n      <td>Not assigned</td>\n      <td>Not assigned</td>\n    </tr>\n    <tr>\n      <th>2</th>\n      <td>M3A</td>\n      <td>North York</td>\n      <td>Parkwoods</td>\n    </tr>\n    <tr>\n      <th>3</th>\n      <td>M4A</td>\n      <td>North York</td>\n      <td>Victoria Village</td>\n    </tr>\n    <tr>\n      <th>4</th>\n      <td>M5A</td>\n      <td>Downtown Toronto</td>\n      <td>Regent Park, Harbourfront</td>\n    </tr>\n  </tbody>\n</table>\n</div>"
     },
     "metadata": {},
     "execution_count": 44
    }
   ],
   "source": [
    "# Read table from wikipedia page\n",
    "url = \"https://en.wikipedia.org/wiki/List_of_postal_codes_of_Canada:_M\"\n",
    "toronto_codes = pd.read_html(url)[0]\n",
    "toronto_codes.head()"
   ]
  },
  {
   "cell_type": "code",
   "execution_count": 45,
   "metadata": {},
   "outputs": [
    {
     "output_type": "stream",
     "name": "stdout",
     "text": [
      "180\nRows with Neighborhood == Not assigned: 0\nDuplicate Postal Code Rows:  0\n"
     ]
    },
    {
     "output_type": "execute_result",
     "data": {
      "text/plain": [
       "  PostalCode           Borough                                 Neighborhood\n",
       "0        M3A        North York                                    Parkwoods\n",
       "1        M4A        North York                             Victoria Village\n",
       "2        M5A  Downtown Toronto                    Regent Park, Harbourfront\n",
       "3        M6A        North York             Lawrence Manor, Lawrence Heights\n",
       "4        M7A  Downtown Toronto  Queen's Park, Ontario Provincial Government"
      ],
      "text/html": "<div>\n<style scoped>\n    .dataframe tbody tr th:only-of-type {\n        vertical-align: middle;\n    }\n\n    .dataframe tbody tr th {\n        vertical-align: top;\n    }\n\n    .dataframe thead th {\n        text-align: right;\n    }\n</style>\n<table border=\"1\" class=\"dataframe\">\n  <thead>\n    <tr style=\"text-align: right;\">\n      <th></th>\n      <th>PostalCode</th>\n      <th>Borough</th>\n      <th>Neighborhood</th>\n    </tr>\n  </thead>\n  <tbody>\n    <tr>\n      <th>0</th>\n      <td>M3A</td>\n      <td>North York</td>\n      <td>Parkwoods</td>\n    </tr>\n    <tr>\n      <th>1</th>\n      <td>M4A</td>\n      <td>North York</td>\n      <td>Victoria Village</td>\n    </tr>\n    <tr>\n      <th>2</th>\n      <td>M5A</td>\n      <td>Downtown Toronto</td>\n      <td>Regent Park, Harbourfront</td>\n    </tr>\n    <tr>\n      <th>3</th>\n      <td>M6A</td>\n      <td>North York</td>\n      <td>Lawrence Manor, Lawrence Heights</td>\n    </tr>\n    <tr>\n      <th>4</th>\n      <td>M7A</td>\n      <td>Downtown Toronto</td>\n      <td>Queen's Park, Ontario Provincial Government</td>\n    </tr>\n  </tbody>\n</table>\n</div>"
     },
     "metadata": {},
     "execution_count": 45
    }
   ],
   "source": [
    "# Remove the Borough's that are \"Not assigned\"\n",
    "# print(toronto_codes.shape[0])\n",
    "toronto_codes = toronto_codes[toronto_codes.Borough != \"Not assigned\"]\n",
    "# print(toronto_codes[\"Borough\"].value_counts())\n",
    "\n",
    "# Update Column Names\n",
    "toronto_codes.columns = [\"PostalCode\", \"Borough\", \"Neighborhood\"]\n",
    "\n",
    "# If Neighborhood = \"Not assigned\", Neighborhood = Borough\n",
    "print(\"Rows with Neighborhood == Not assigned: {}\"\n",
    "    .format(sum(toronto_codes[\"Neighborhood\"].str.contains(\"Not\", case=False))))\n",
    "\n",
    "# Rows with repeated Postal Codes\n",
    "print(\"Duplicate Postal Code Rows: \", sum(toronto_codes[\"PostalCode\"].value_counts() > 1))\n",
    "\n",
    "# Reindex\n",
    "toronto_codes = toronto_codes.reset_index().drop(\"index\", axis=1)\n",
    "\n",
    "toronto_codes.head()"
   ]
  },
  {
   "cell_type": "code",
   "execution_count": 46,
   "metadata": {},
   "outputs": [
    {
     "output_type": "stream",
     "name": "stdout",
     "text": [
      "********************************************************************************\nNumber of rows in the dataframe:  103\n********************************************************************************\n"
     ]
    }
   ],
   "source": [
    "print(\"*\" * 80)\n",
    "print(\"Number of rows in the dataframe: \", toronto_codes.shape[0])\n",
    "print(\"*\" * 80)"
   ]
  },
  {
   "source": [
    "## Part 2: Get Latitude and Longitude of Postal Codes\n",
    "1. From the dataframe of postal code, borough name and neighborhood name get latitude & longitude of each neighborhood.\n",
    "2. Use the Geocoder Python package to get latitude and longitude info: https://geocoder.readthedocs.io/index.html. (You may need to run a while loop for each postal code to get over `None` response):\n",
    "\n",
    "```python\n",
    "import geocoder # import geocoder\n",
    "\n",
    "# initialize your variable to None\n",
    "lat_lng_coords = None\n",
    "\n",
    "# loop until you get the coordinates\n",
    "while(lat_lng_coords is None):\n",
    "  g = geocoder.google('{}, Toronto, Ontario'.format(postal_code))\n",
    "  lat_lng_coords = g.latlng\n",
    "\n",
    "latitude = lat_lng_coords[0]\n",
    "longitude = lat_lng_coords[1]\n",
    "```\n",
    "\n",
    "3. In case you are not able to get the geographical coordinates of the neighborhoods using the Geocoder package, here is a link to a csv file that has the geographical coordinates of each postal code: http://cocl.us/Geospatial_data\n",
    "4. Create dataframe with PostalCode, Borough, Neighborhood, Latitude, Longitude"
   ],
   "cell_type": "markdown",
   "metadata": {}
  },
  {
   "source": [
    "## Part 3: Explore and cluster neighborhoods\n",
    "1. You can decide to work with only boroughs that contain the word Toronto and then replicate the same analysis we did to the New York City data.\n",
    "2. Add enough Markdown cells to explain what you decided to do and to report any observations you make.\n",
    "3. Generate maps to visualize your neighborhoods and how they cluster together.\n",
    "\n",
    "Once you are happy with your analysis, submit a link to the new Notebook on your Github repository. (3 marks)\n",
    "\n",
    "The submission will be a link to your Jupyter Notebook on your Github repository.\n"
   ],
   "cell_type": "markdown",
   "metadata": {}
  },
  {
   "cell_type": "code",
   "execution_count": null,
   "metadata": {},
   "outputs": [],
   "source": []
  }
 ]
}