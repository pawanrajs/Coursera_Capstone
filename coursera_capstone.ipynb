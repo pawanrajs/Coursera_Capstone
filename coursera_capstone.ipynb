{
 "metadata": {
  "language_info": {
   "codemirror_mode": {
    "name": "ipython",
    "version": 3
   },
   "file_extension": ".py",
   "mimetype": "text/x-python",
   "name": "python",
   "nbconvert_exporter": "python",
   "pygments_lexer": "ipython3",
   "version": "3.7.3-final"
  },
  "orig_nbformat": 2,
  "kernelspec": {
   "name": "python3",
   "display_name": "Python 3"
  }
 },
 "nbformat": 4,
 "nbformat_minor": 2,
 "cells": [
  {
   "source": [
    "# Coursera Capstone\n",
    "\n",
    "This is a notebook that will be used to complete the Coursera Capstone Project from the 9th course of the IBM Data Science certification - [The Applied Data Science Capstone](https://www.coursera.org/learn/applied-data-science-capstone/home/welcome)\n",
    "\n",
    "So far, this is Week 1 - create the notebook and put it on Git"
   ],
   "cell_type": "markdown",
   "metadata": {}
  },
  {
   "cell_type": "code",
   "execution_count": 2,
   "metadata": {},
   "outputs": [
    {
     "output_type": "stream",
     "name": "stdout",
     "text": [
      "Hello Capstone Project Course\n"
     ]
    }
   ],
   "source": [
    "# import libraries\n",
    "import pandas as pd \n",
    "import numpy as np\n",
    "\n",
    "# Print Hello Capstone\n",
    "print(\"Hello Capstone Project Course\")"
   ]
  },
  {
   "cell_type": "code",
   "execution_count": null,
   "metadata": {},
   "outputs": [],
   "source": [
    "# @hidden cell\n",
    "client_id = \"WZGPEJLUAAPXNKFJBDCRZFB1Y3HWNGJWRHTYLEZV4552SABS\"\n",
    "client_secret = \"TA3F5MXGNV3KA5RCVGPU1QX2MY0E0YY2FVNUIHGVAKGGE33H\"\n",
    "v = \"20201107\"\n",
    "v_old = \"20180604\""
   ]
  }
 ]
}